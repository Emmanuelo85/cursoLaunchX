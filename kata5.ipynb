{
 "cells": [
  {
   "cell_type": "markdown",
   "metadata": {},
   "source": [
    "## Ejercicio1 - Utilizar operadores aritméticos\n",
    "Operadores aritméticos en Python.\n",
    "Python proporciona operadores aritméticos comunes para que puedas realizar operaciones matemáticas en tu código.\n",
    "Estos incluyen las cuatro operaciones principales de suma, resta, multiplicación y división.\n",
    "\n",
    "Exploremos cómo podemos crear un programa que pueda calcular la distancia entre dos planetas.\n",
    "Comenzaremos usando dos distancias de planetas: Tierra (149.597.870 km) y Júpiter (778.547.200 km)."
   ]
  },
  {
   "cell_type": "code",
   "execution_count": 11,
   "metadata": {},
   "outputs": [
    {
     "name": "stdout",
     "output_type": "stream",
     "text": [
      "628949330\n",
      "390577534\n"
     ]
    }
   ],
   "source": [
    "# Crear variables para almacenar las dos distancias\n",
    "# ¡Asegúrate de quitar las comas!\n",
    "tierra = 149597870\n",
    "jupiter = 778547200\n",
    "\n",
    "distanciaKM = (jupiter - tierra)\n",
    "#distanciaMi = (jupiter - tierra) * 0.621 #Millas\n",
    "print(distanciaKM)\n",
    "print(round(distanciaKM * .621))"
   ]
  },
  {
   "cell_type": "markdown",
   "metadata": {},
   "source": [
    "## Ejercicio 2: convierte cadenas en números y usa valores absolutos\n",
    "Crear una aplicación para trabajar con números y entrada de usuario.\n",
    "\n",
    "Con frecuencia, deberás convertir los valores de cadena en números para realizar correctamente diferentes operaciones o determinar el valor absoluto de un número.\n",
    "\n",
    "Para crear nuestra aplicación, queremos leer la distancia del sol para dos planetas, y luego mostrar la distancia entre los planetas.\n",
    "\n",
    "Haremos esto usando input para leer los valores, int para convertir a entero y luego abs para convertir el resultado en su valor absoluto."
   ]
  },
  {
   "cell_type": "code",
   "execution_count": 15,
   "metadata": {},
   "outputs": [
    {
     "name": "stdout",
     "output_type": "stream",
     "text": [
      "La distancia absoluta entre ellos es: 31236300.0 Millas\n"
     ]
    }
   ],
   "source": [
    "#Usando input, agrega el código para leer la distancia del sol para cada planeta, considerando 2 planetas.\n",
    "# Almacenar las entradas del usuario\n",
    "#Pista: variable = input(\"¿Cuál es tu nombre?\")\n",
    "\n",
    "planetaA = input('Ingresa la distancia del sol a tu planeta preferido')\n",
    "planetaB = input('Ahora ingresa la segunda distancia de otro planeta')\n",
    "\n",
    "# Convierte las cadenas de ambos planetas a números enteros\n",
    "\n",
    "distA = int(planetaA)\n",
    "distB = int(planetaB)\n",
    "\n",
    "# Realizar el cálculo y determinar el valor absoluto\n",
    "\n",
    "calculo = distA - distB\n",
    "\n",
    "print('La distancia absoluta entre ellos es: ' + str(abs(calculo*.621)) + ' Millas')"
   ]
  }
 ],
 "metadata": {
  "interpreter": {
   "hash": "8a8dde8e764ce656f0c108b4e16fe4f6f3f29b2f8940ad45b10a89254928b513"
  },
  "kernelspec": {
   "display_name": "Python 3.9.5 64-bit",
   "language": "python",
   "name": "python3"
  },
  "language_info": {
   "codemirror_mode": {
    "name": "ipython",
    "version": 3
   },
   "file_extension": ".py",
   "mimetype": "text/x-python",
   "name": "python",
   "nbconvert_exporter": "python",
   "pygments_lexer": "ipython3",
   "version": "3.9.5"
  },
  "orig_nbformat": 4
 },
 "nbformat": 4,
 "nbformat_minor": 2
}
