{
 "cells": [
  {
   "cell_type": "markdown",
   "metadata": {},
   "source": [
    "# Ejercicio: Uso de funciones en Python\n",
    "## Ejercicio 1: Trabajar con argumentos en funciones\n",
    "Los argumentos requeridos en las funciones se utilizan cuando las funciones necesitan que esos argumentos funcionen correctamente. En este ejercicio, construirás un informe de combustible que requiere información de varias ubicaciones de combustible en todo el cohete."
   ]
  },
  {
   "cell_type": "code",
   "execution_count": 33,
   "metadata": {},
   "outputs": [
    {
     "name": "stdout",
     "output_type": "stream",
     "text": [
      "24.0\n"
     ]
    },
    {
     "data": {
      "text/plain": [
       "6.5"
      ]
     },
     "execution_count": 33,
     "metadata": {},
     "output_type": "execute_result"
    }
   ],
   "source": [
    "def tanques_combustibe(**tanques):\n",
    "    reporte = sum(tanques.values()) / len(tanques)\n",
    "    return reporte\n",
    "\n",
    "\n",
    "# Llamamos a la función que genera el reporte print(funcion(tanque1, tanque2, tanque3))   \n",
    "\n",
    "calculo = tanques_combustibe(tanque1= 35, tanque2= 25, tanque3= 12)\n",
    "print(calculo)\n",
    "\n",
    "def media(*valor):\n",
    "    sumaTotal = sum(valor)\n",
    "    items = len(valor)\n",
    "    promedio = sumaTotal / items\n",
    "    return promedio\n",
    "\n",
    "media(5,6,7,8)\n",
    "\n"
   ]
  },
  {
   "cell_type": "code",
   "execution_count": 43,
   "metadata": {},
   "outputs": [
    {
     "name": "stdout",
     "output_type": "stream",
     "text": [
      "El tanque pricipal contiene 35 litros\n",
      "    El tanque externo tiene 25 litros\n",
      "    y el de Hydrogeno 12 litros\n",
      "    su promedio es de 24.0 litros\n",
      "    \n"
     ]
    }
   ],
   "source": [
    "# Actualiza la función\n",
    "def media(*num):\n",
    "    sumaTotal = sum(num)\n",
    "    items = len(num)\n",
    "    promedio = sumaTotal / items\n",
    "    return promedio\n",
    "\n",
    "#utilizando la fucnion media para obetner el promedio de los tanques\n",
    "def infoTanques (main_tank, external_tank, hydrogen_tank):\n",
    "    calculo = media(main_tank, external_tank, hydrogen_tank)\n",
    "    return f\"\"\"El tanque pricipal contiene {main_tank} litros\n",
    "    El tanque externo tiene {external_tank} litros\n",
    "    y el de Hydrogeno {hydrogen_tank} litros\n",
    "    su promedio es de {calculo} litros\n",
    "    \"\"\"\n",
    "\n",
    "print (infoTanques(35,25,12))\n",
    "\n",
    "\n",
    "\n",
    "# def tanques_combustibe(**tanques):\n",
    "#    for item in tanques:\n",
    "#        val = append(tanques.value())\n",
    "#    prom = media(val)\n",
    "#    return prom\n",
    "\n",
    "\n",
    "# avgTank = tanques_combustible(mainTank=35, externalTank=25, hydrogenTank=12, emergencyTank=100)\n",
    "# print('El promodio de los tanques es de ', avgTank)\n",
    "\n",
    "\n",
    "    "
   ]
  },
  {
   "cell_type": "markdown",
   "metadata": {},
   "source": [
    "# Ejercicio 2: Trabajo con argumentos de palabra clave\n",
    "## Ejercicio : Trabajar con argumentos de palabras clave en funciones\n",
    "En este ejercicio, construirás un informe de cohete que requiere varias piezas de información, como el tiempo hasta el destino, el combustible a la izquierda y el nombre del destino. Comienza por crear una función que creará un informe preciso de la misión:"
   ]
  },
  {
   "cell_type": "code",
   "execution_count": 12,
   "metadata": {},
   "outputs": [
    {
     "name": "stdout",
     "output_type": "stream",
     "text": [
      "\n",
      "    Informe de mision:\n",
      "    Tiempo de lanzamiento: 5:00am\n",
      "    Tiempo de vuelo: 4 horas\n",
      "    Destino de mision: Venus\n",
      "    Tanques de combustible:\n",
      "        Interno: 60 L\n",
      "        Extra: 50 L\n",
      "\n",
      "    \n",
      "\n",
      "    Informe de mision:\n",
      "    Tiempo de lanzamiento Total de lanzamiento: 12 horas\n",
      "    Destino de mision: Marte\n",
      "    Tanques de combustible Total: 110 L\n",
      "    \n",
      "El tanque externo tiene 50 Litros\n",
      "El tanque interno tiene 60 Litros\n",
      "\n",
      "    Informe de mision:\n",
      "    Tiempo de lanzamiento Total de lanzamiento: 12 horas\n",
      "    Destino de mision: Marte\n",
      "    Tanques de combustible Total: 110 L\n",
      "    \n"
     ]
    }
   ],
   "source": [
    "# Función con un informe preciso de la misión. Considera hora de prelanzamiento, tiempo de vuelo, destino, tanque externo y tanque interno\n",
    "\n",
    "def informeMision(prelaunch_time, tiempo_vuelo, destino, tanque_extra, tanque_interno):\n",
    "    return f\"\"\"\n",
    "    Informe de mision:\n",
    "    Tiempo de lanzamiento: {prelaunch_time}\n",
    "    Tiempo de vuelo: {tiempo_vuelo} horas\n",
    "    Destino de mision: {destino}\n",
    "    Tanques de combustible:\n",
    "        Interno: {tanque_interno} L\n",
    "        Extra: {tanque_extra} L\n",
    "\n",
    "    \"\"\"\n",
    "\n",
    "print(informeMision('5:00am', 4, 'Venus', 50, 60,))\n",
    "\n",
    "# Escribe tu nueva función de reporte considerando lo anterior\n",
    "\n",
    "def informe2Mision(destino, *tiempos, **tanques):\n",
    "    return f\"\"\"\n",
    "    Informe de mision:\n",
    "    Tiempo de lanzamiento Total de lanzamiento: {sum(tiempos)} horas\n",
    "    Destino de mision: {destino}\n",
    "    Tanques de combustible Total: {sum(tanques.values())} L\n",
    "    \"\"\"\n",
    "\n",
    "print(informe2Mision('Marte', 3, 4, 5, externo=50, interno=60))\n",
    "\n",
    "\n",
    "\n",
    "def informe3Mision(destino, *tiempos, **tanques):\n",
    "    informe = f\"\"\"\n",
    "    Informe de mision:\n",
    "    Tiempo de lanzamiento Total de lanzamiento: {sum(tiempos)} horas\n",
    "    Destino de mision: {destino}\n",
    "    Tanques de combustible Total: {sum(tanques.values())} L\n",
    "    \"\"\"\n",
    "    for tanque, litros in tanques.items():\n",
    "        tankDetail = print(f'El tanque {tanque} tiene {litros} Litros')\n",
    "    return informe\n",
    "\n",
    "\n",
    "\n",
    "print(informe3Mision('Marte', 3, 4, 5, externo=50, interno=60)) \n"
   ]
  }
 ],
 "metadata": {
  "interpreter": {
   "hash": "8a8dde8e764ce656f0c108b4e16fe4f6f3f29b2f8940ad45b10a89254928b513"
  },
  "kernelspec": {
   "display_name": "Python 3.9.5 64-bit",
   "language": "python",
   "name": "python3"
  },
  "language_info": {
   "codemirror_mode": {
    "name": "ipython",
    "version": 3
   },
   "file_extension": ".py",
   "mimetype": "text/x-python",
   "name": "python",
   "nbconvert_exporter": "python",
   "pygments_lexer": "ipython3",
   "version": "3.9.5"
  },
  "orig_nbformat": 4
 },
 "nbformat": 4,
 "nbformat_minor": 2
}
