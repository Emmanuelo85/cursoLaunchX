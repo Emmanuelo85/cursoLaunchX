{
 "cells": [
  {
   "cell_type": "markdown",
   "metadata": {},
   "source": [
    "# Mi primer programa"
   ]
  },
  {
   "cell_type": "code",
   "execution_count": 2,
   "metadata": {},
   "outputs": [
    {
     "name": "stdout",
     "output_type": "stream",
     "text": [
      "la fehca de hoy es 2022-02-10\n"
     ]
    }
   ],
   "source": [
    "# Mostrar la fecha\n",
    "from datetime import date\n",
    "print('la fehca de hoy es ' + str(date.today())) # Convertimos las llamada a la funcion date para que se muestre"
   ]
  },
  {
   "cell_type": "code",
   "execution_count": 4,
   "metadata": {},
   "outputs": [
    {
     "name": "stdout",
     "output_type": "stream",
     "text": [
      "Los parsecs 1.0 equivale a: 3.26156 Años luz\n"
     ]
    }
   ],
   "source": [
    "# Conversor entre parserc y anios luz\n",
    "# 1 parsec es 3.26156 anios luz\n",
    "parsec = float (input ('Ingresa los parsecs a convertir: '))\n",
    "conv = parsec * 3.26156\n",
    "\n",
    "print ('Los parsecs ' + str(parsec) + ' ' + 'equivale a: ' + str(conv) + ' ' + 'Años luz')\n"
   ]
  }
 ],
 "metadata": {
  "interpreter": {
   "hash": "8a8dde8e764ce656f0c108b4e16fe4f6f3f29b2f8940ad45b10a89254928b513"
  },
  "kernelspec": {
   "display_name": "Python 3.9.5 64-bit",
   "language": "python",
   "name": "python3"
  },
  "language_info": {
   "codemirror_mode": {
    "name": "ipython",
    "version": 3
   },
   "file_extension": ".py",
   "mimetype": "text/x-python",
   "name": "python",
   "nbconvert_exporter": "python",
   "pygments_lexer": "ipython3",
   "version": "3.9.5"
  },
  "orig_nbformat": 4
 },
 "nbformat": 4,
 "nbformat_minor": 2
}
