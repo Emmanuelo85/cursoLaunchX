{
 "cells": [
  {
   "cell_type": "markdown",
   "metadata": {},
   "source": [
    "# Ejercicio 1: Creación de un bucle \"while\"\n",
    "## Ejercicio 1: Uso de ciclos while en Python\n",
    "En Python, los ciclos while te permiten ejecutar código un número desconocido de veces. Los ciclos examinan una condición booleana y, siempre que la condición sea verdadera, se ejecutará el código dentro del ciclo. Esto es muy útil para situaciones como solicitar valores a un usuario.\n",
    "\n",
    "En este ejercicio, estás creando una aplicación que solicita a un usuario que ingrese una lista de planetas. En un ejercicio posterior, agregarás código que muestre la lista. Por ahora, crearás solo el código que solicita al usuario la lista de planetas."
   ]
  },
  {
   "cell_type": "code",
   "execution_count": 3,
   "metadata": {},
   "outputs": [
    {
     "name": "stdout",
     "output_type": "stream",
     "text": [
      "Tus planetas son:\n",
      "\n",
      "Tierra\n",
      "Namekusein\n",
      "Hera\n",
      "Daldon\n",
      "Freezer 448\n",
      "King Kai's\n",
      "Sadala\n"
     ]
    }
   ],
   "source": [
    "# Declara dos variables\n",
    "\n",
    "planetas = []\n",
    "entrada = ''\n",
    "\n",
    "# Escribe el ciclo while solicitado\n",
    "\n",
    "while entrada.lower() != 'listo':\n",
    "    if entrada:\n",
    "        planetas.append(entrada)\n",
    "    entrada = input('Ingresa el nombre de un planeta, escribe \"listo\" cuendo termines')\n",
    "\n",
    "print('Tus planetas son:' + '\\n')\n",
    "for enum in planetas:\n",
    "    print(enum)"
   ]
  }
 ],
 "metadata": {
  "interpreter": {
   "hash": "8a8dde8e764ce656f0c108b4e16fe4f6f3f29b2f8940ad45b10a89254928b513"
  },
  "kernelspec": {
   "display_name": "Python 3.9.5 64-bit",
   "language": "python",
   "name": "python3"
  },
  "language_info": {
   "codemirror_mode": {
    "name": "ipython",
    "version": 3
   },
   "file_extension": ".py",
   "mimetype": "text/x-python",
   "name": "python",
   "nbconvert_exporter": "python",
   "pygments_lexer": "ipython3",
   "version": "3.9.5"
  },
  "orig_nbformat": 4
 },
 "nbformat": 4,
 "nbformat_minor": 2
}
